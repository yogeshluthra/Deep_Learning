{
 "cells": [
  {
   "cell_type": "code",
   "execution_count": 1,
   "metadata": {
    "collapsed": true
   },
   "outputs": [],
   "source": [
    "import numpy as np"
   ]
  },
  {
   "cell_type": "code",
   "execution_count": 13,
   "metadata": {},
   "outputs": [
    {
     "data": {
      "text/plain": [
       "array([[1, 2, 3, 4],\n",
       "       [1, 2, 3, 4],\n",
       "       [1, 2, 3, 4]])"
      ]
     },
     "execution_count": 13,
     "metadata": {},
     "output_type": "execute_result"
    }
   ],
   "source": [
    "a=np.array([1,2,3,4])\n",
    "np.tile(a, (3, 1))"
   ]
  },
  {
   "cell_type": "code",
   "execution_count": 40,
   "metadata": {},
   "outputs": [
    {
     "name": "stdout",
     "output_type": "stream",
     "text": [
      "50\n"
     ]
    },
    {
     "data": {
      "text/plain": [
       "array([[ 0.50766961,  0.68111928,  0.26040896,  0.89886327,  0.4804345 ],\n",
       "       [ 0.32508118,  0.75816301,  0.56469914,  0.09094842,  0.17907481],\n",
       "       [ 0.7321846 ,  0.83706235,  0.07242884,  0.7402327 ,  0.93706499],\n",
       "       [ 0.88287664,  0.94761865,  0.09576747,  0.66483854,  0.07467679],\n",
       "       [ 0.26463596,  0.84315409,  0.55408019,  0.23042302,  0.36169653],\n",
       "       [ 0.63485377,  0.15254838,  0.84488128,  0.17665579,  0.29993632],\n",
       "       [ 0.56461625,  0.91413414,  0.36242514,  0.74371549,  0.3114546 ]])"
      ]
     },
     "execution_count": 40,
     "metadata": {},
     "output_type": "execute_result"
    }
   ],
   "source": [
    "b=np.random.rand(10,5)\n",
    "print b.size\n",
    "\n",
    "x=np.asarray(np.array_split(b,3))\n",
    "np.concatenate(x[np.arange(3)!=2])\n"
   ]
  },
  {
   "cell_type": "code",
   "execution_count": null,
   "metadata": {
    "collapsed": true
   },
   "outputs": [],
   "source": []
  }
 ],
 "metadata": {
  "kernelspec": {
   "display_name": "Python 2",
   "language": "python",
   "name": "python2"
  },
  "language_info": {
   "codemirror_mode": {
    "name": "ipython",
    "version": 2
   },
   "file_extension": ".py",
   "mimetype": "text/x-python",
   "name": "python",
   "nbconvert_exporter": "python",
   "pygments_lexer": "ipython2",
   "version": "2.7.13"
  }
 },
 "nbformat": 4,
 "nbformat_minor": 2
}
