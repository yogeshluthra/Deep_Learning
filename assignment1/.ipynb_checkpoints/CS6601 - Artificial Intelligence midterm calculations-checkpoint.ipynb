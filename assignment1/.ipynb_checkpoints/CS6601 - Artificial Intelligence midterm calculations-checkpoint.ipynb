{
 "cells": [
  {
   "cell_type": "code",
   "execution_count": 1,
   "metadata": {},
   "outputs": [
    {
     "name": "stdout",
     "output_type": "stream",
     "text": [
      "/Users/yogeshluthra/Documents/OneDrive/DeepLearning/CS231n/Assignments/assignment1\n"
     ]
    }
   ],
   "source": [
    "import numpy as np\n",
    "import matplotlib.pyplot as plt\n",
    "import os\n",
    "print os.getcwd()"
   ]
  },
  {
   "cell_type": "code",
   "execution_count": 2,
   "metadata": {},
   "outputs": [
    {
     "name": "stdout",
     "output_type": "stream",
     "text": [
      "100->70  T=40\tProb=0.472\n",
      "200->150  T=70\tProb=0.49\n",
      "150->200  T=100\tProb=  1\n",
      "100->80  T=20\tProb=0.368\n",
      "200->230  T=150\tProb=  1\n",
      "150->90  T=250\tProb=0.787\n"
     ]
    }
   ],
   "source": [
    "def prob_SA_AcceptNext(currVal, nextVal , T):\n",
    "    if T<=0: return 0.0\n",
    "    if nextVal>currVal: return 1.0\n",
    "    dE = nextVal - currVal\n",
    "    return np.e**(dE*1.0/T)\n",
    "\n",
    "curr_next_Ts=[(100, 70, 40),\n",
    "            (200, 150, 70),\n",
    "            (150, 200, 100),\n",
    "            (100, 80, 20),\n",
    "            (200, 230, 150),\n",
    "            (150, 90, 250)]\n",
    "for currVal, nextVal, T in curr_next_Ts:\n",
    "    print \"{0}->{1}  T={2}\\tProb={3:3.3g}\".format(currVal, nextVal, T, prob_SA_AcceptNext(currVal, nextVal , T))"
   ]
  },
  {
   "cell_type": "markdown",
   "metadata": {},
   "source": [
    "#### Probability and Inference\n",
    "  -  Bonus question"
   ]
  },
  {
   "cell_type": "code",
   "execution_count": 3,
   "metadata": {},
   "outputs": [
    {
     "name": "stdout",
     "output_type": "stream",
     "text": [
      "{'+b+b': 0.18987113921178683, '-b-b': 0.2809395539647959, '+b-b': 0.40769819349491476, '-b+b': 0.1214911133285024}\n",
      "odds that I studied bayes rule, given I do better=0.598\n",
      "odds that friend studied bayes rule, given I do better=0.311\n",
      "odds that we both studied bayes rule, given I do better=0.19\n"
     ]
    }
   ],
   "source": [
    "# given b\n",
    "p_e1_B=0\n",
    "p_e2_B=1\n",
    "p_e3_B=2\n",
    "p_none_B=3\n",
    "p_atleast1_B=4\n",
    "p_atleast2_B=5\n",
    "\n",
    "# evidences\n",
    "b='+b'\n",
    "nb='-b'\n",
    "\n",
    "# prob tables\n",
    "pB_g_DoBetter = {b+b:0.0, # both studied bayes rule\n",
    "                b+nb:0.0, # only me studied bayes rule\n",
    "                nb+b:0.0, # only friend studied bayes rule\n",
    "                nb+nb:0.0} # none studied bayes rule\n",
    "# probability of doing better than friend (one more answered correctly than friend), \n",
    "#   given mine and friends evidence of studying bayes rule\n",
    "p_doBetter = {} \n",
    "\n",
    "pe1=0.95*0.1*0.15 \\\n",
    "        + 0.05*0.9*0.15 \\\n",
    "            + 0.05*0.1*0.85\n",
    "pe2=0.95*0.9*0.15 \\\n",
    "        + 0.95*0.1*0.85 \\\n",
    "            + 0.05*0.9*0.85\n",
    "pe3=0.95*0.9*0.85\n",
    "p_doBetter[b]=[\n",
    "#     0.85*0.25 + 0.15*0.75, 0.85*0.75, 1-((0.85*0.25 + 0.15*0.75) + (0.85*0.75)), ((0.85*0.25 + 0.15*0.75) + (0.85*0.75))\n",
    "    pe1,\n",
    "    pe2,\n",
    "    pe3,\n",
    "    1-pe1-pe2-pe3,\n",
    "    pe1+pe2+pe3,\n",
    "    pe2+pe3\n",
    "]\n",
    "\n",
    "pe1=0.75*0.1*0.35 \\\n",
    "        + 0.25*0.9*0.35 \\\n",
    "            + 0.25*0.1*0.65\n",
    "pe2=0.75*0.9*0.35 \\\n",
    "        + 0.75*0.1*0.65 \\\n",
    "            + 0.25*0.9*0.65\n",
    "pe3=0.75*0.9*0.65\n",
    "p_doBetter[nb]=[\n",
    "#     0.55*.625 + 0.45*0.375, 0.55*0.375, 1-((0.55*.625 + 0.45*0.375) + (0.55*0.375)), ((0.55*.625 + 0.45*0.375) + (0.55*0.375))\n",
    "    pe1,\n",
    "    pe2,\n",
    "    pe3,\n",
    "    1-pe1-pe2-pe3,\n",
    "    pe1+pe2+pe3,\n",
    "    pe2+pe3\n",
    "]\n",
    "\n",
    "# calculation\n",
    "pB_g_DoBetter[b+b] = p_doBetter[b][p_atleast1_B]*p_doBetter[b][p_none_B] \\\n",
    "                        + p_doBetter[b][p_atleast2_B]*p_doBetter[b][p_e1_B] \\\n",
    "                            + p_doBetter[b][p_e3_B]*p_doBetter[b][p_e2_B]\n",
    "        \n",
    "pB_g_DoBetter[b+nb] = p_doBetter[b][p_atleast1_B]*p_doBetter[nb][p_none_B] \\\n",
    "                        + p_doBetter[b][p_atleast2_B]*p_doBetter[nb][p_e1_B] \\\n",
    "                            + p_doBetter[b][p_e3_B]*p_doBetter[nb][p_e2_B]\n",
    "        \n",
    "pB_g_DoBetter[nb+b] = p_doBetter[nb][p_atleast1_B]*p_doBetter[b][p_none_B] \\\n",
    "                        + p_doBetter[nb][p_atleast2_B]*p_doBetter[b][p_e1_B] \\\n",
    "                            + p_doBetter[nb][p_e3_B]*p_doBetter[b][p_e2_B]\n",
    "        \n",
    "pB_g_DoBetter[nb+nb] = p_doBetter[nb][p_atleast1_B]*p_doBetter[nb][p_none_B] \\\n",
    "                        + p_doBetter[nb][p_atleast2_B]*p_doBetter[nb][p_e1_B] \\\n",
    "                            + p_doBetter[nb][p_e3_B]*p_doBetter[nb][p_e2_B]\n",
    "\n",
    "# normalization factor\n",
    "norm_fac = pB_g_DoBetter[b+b] + pB_g_DoBetter[b+nb] + pB_g_DoBetter[nb+b] + pB_g_DoBetter[nb+nb]\n",
    "\n",
    "for k in pB_g_DoBetter.keys():\n",
    "    pB_g_DoBetter[k]/=norm_fac\n",
    "\n",
    "print pB_g_DoBetter\n",
    "\n",
    "print 'odds that I studied bayes rule, given I do better={0:3.3g}'.format(pB_g_DoBetter[b+b]+pB_g_DoBetter[b+nb])\n",
    "print 'odds that friend studied bayes rule, given I do better={0:3.3g}'.format(pB_g_DoBetter[b+b]+pB_g_DoBetter[nb+b])\n",
    "print 'odds that we both studied bayes rule, given I do better={0:3.3g}'.format(pB_g_DoBetter[b+b])\n"
   ]
  },
  {
   "cell_type": "markdown",
   "metadata": {},
   "source": [
    "  -  iv)"
   ]
  },
  {
   "cell_type": "code",
   "execution_count": 4,
   "metadata": {},
   "outputs": [
    {
     "name": "stdout",
     "output_type": "stream",
     "text": [
      "p(-g)\n",
      "{'+a-b': 0.25, '-a-b': 0.7, '-a+b': 0.25, '+a+b': 0.050000000000000044}\n",
      "p(+g)\n",
      "{'+a-b': 0.75, '-a-b': 0.3, '-a+b': 0.75, '+a+b': 0.95}\n",
      "p(+i)\n",
      "{'-b-c': 0.1, '-b+c': 0.65, '+b+c': 0.85, '+b-c': 0.65}\n",
      "p(-i)\n",
      "{'+b-c': 0.35, '-b-c': 0.9, '-b+c': 0.35, '+b+c': 0.15000000000000002}\n",
      "p(+s)\n",
      "{'+a-c': 0.7, '-a-c': 0.2, '-a+c': 0.7, '+a+c': 0.9}\n",
      "p(-s)\n",
      "{'+a-c': 0.30000000000000004, '-a-c': 0.8, '-a+c': 0.30000000000000004, '+a+c': 0.09999999999999998}\n",
      "p(at least 2 correct | +a,-b,+c)=0.87\n",
      "p(at least 2 correct | -a,-b,+c)=0.587\n",
      "p(at least 2 correct | +a,-b,-c)=0.565\n",
      "p(at least 2 correct | -a,-b,-c)=0.098\n",
      "p(at least 2 correct | -b)=0.53\n"
     ]
    }
   ],
   "source": [
    "# Q variables\n",
    "g='+g'\n",
    "ng='-g'\n",
    "s='+s'\n",
    "ns='-s'\n",
    "i='+i'\n",
    "ni='-i'\n",
    "# S variables\n",
    "a='+a'\n",
    "na='-a'\n",
    "b='+b'\n",
    "nb='-b'\n",
    "c='+c'\n",
    "nc='-c'\n",
    "\n",
    "# CPTs\n",
    "prior_A=0.5\n",
    "prior_B=0.5\n",
    "prior_C=0.5\n",
    "\n",
    "p={}\n",
    "# Priors\n",
    "prior_A=0.8\n",
    "prior_B=0.4\n",
    "prior_C=0.6\n",
    "\n",
    "p[a]=prior_A\n",
    "p[na]=1-prior_A\n",
    "\n",
    "p[b]=prior_B\n",
    "p[nb]=1-prior_B\n",
    "\n",
    "p[c]=prior_C\n",
    "p[nc]=1-prior_C\n",
    "#-------\n",
    "# CPTs\n",
    "p[g]={na+nb:0.3,\n",
    "      na+b:0.75,\n",
    "      a+nb:0.75,\n",
    "      a+b:0.95}\n",
    "p[ng]={}\n",
    "for key in p[g].keys():\n",
    "    p[ng][key]=1.0-p[g][key]\n",
    "\n",
    "p[s]={na+nc:0.2,\n",
    "      na+c:0.7,\n",
    "      a+nc:0.7,\n",
    "      a+c:0.9}\n",
    "p[ns]={}\n",
    "for key in p[s].keys():\n",
    "    p[ns][key]=1.0-p[s][key]\n",
    "\n",
    "p[i]={nb+nc:0.1,\n",
    "      nb+c:0.65,\n",
    "      b+nc:0.65,\n",
    "      b+c:0.85}\n",
    "p[ni]={}\n",
    "for key in p[i].keys():\n",
    "    p[ni][key]=1.0-p[i][key]\n",
    "#---------\n",
    "\n",
    "for q in p.keys():\n",
    "    print 'p({0})'.format(q)\n",
    "    print p[q]\n",
    "\n",
    "# find prob of at least 2 correct\n",
    "pAtleast_2correct={}\n",
    "for va in [a, na]:\n",
    "    for vc in [c,nc]:\n",
    "        pAtleast_2correct[va+','+nb+','+vc] = \\\n",
    "            1.0-p[ng][va+nb]*p[ns][va+vc]*p[ni][nb+vc] \\\n",
    "                -(p[g][va+nb]*p[ns][va+vc]*p[ni][nb+vc]\n",
    "                      +p[ng][va+nb]*p[s][va+vc]*p[ni][nb+vc]\n",
    "                          +p[ng][va+nb]*p[ns][va+vc]*p[i][nb+vc])\n",
    "expectedVal=0.0\n",
    "for key, val in pAtleast_2correct.iteritems():\n",
    "    print 'p(at least 2 correct | {0})={1}'.format(key, val)\n",
    "    expectedVal+=val\n",
    "expectedVal *=prior_A*prior_C\n",
    "print 'p(at least 2 correct | {0})={1}'.format(nb, expectedVal)"
   ]
  },
  {
   "cell_type": "markdown",
   "metadata": {},
   "source": [
    "#### Probability and Inference\n",
    "  -  Part iii"
   ]
  },
  {
   "cell_type": "code",
   "execution_count": 35,
   "metadata": {},
   "outputs": [
    {
     "name": "stdout",
     "output_type": "stream",
     "text": [
      "p(-g,-s,-i)=0.04856\n",
      "p(-g,-s,+i)=0.02792\n",
      "p(-g,+s,-i)=0.076\n",
      "p(-g,+s,+i)=0.08752\n",
      "p(+g,-s,-i)=0.08292\n",
      "p(+g,-s,+i)=0.0846\n",
      "p(+g,+s,-i)=0.22652\n",
      "p(+g,+s,+i)=0.36596\n"
     ]
    }
   ],
   "source": [
    "check_prob=0.0\n",
    "for G in [ng,g]:\n",
    "    for S in [ns,s]:\n",
    "        for I in [ni,i]:\n",
    "            prob=0.0\n",
    "            for A in [na,a]:\n",
    "                for B in [nb,b]:\n",
    "                    for C in [nc,c]:\n",
    "                        prob+= \\\n",
    "                            p[A]*p[B]*p[C]*p[G][A+B]*p[S][A+C]*p[I][B+C]\n",
    "            print 'p({G},{S},{I})={prob}'.format(A=A, B=B, C=C, G=G, S=S, I=I, prob=prob)\n"
   ]
  },
  {
   "cell_type": "code",
   "execution_count": 5,
   "metadata": {},
   "outputs": [
    {
     "data": {
      "text/plain": [
       "0.03750000000000009"
      ]
     },
     "execution_count": 5,
     "metadata": {},
     "output_type": "execute_result"
    }
   ],
   "source": [
    "1-((0.85*0.25 + 0.15*0.75) + (0.85*0.75))"
   ]
  },
  {
   "cell_type": "code",
   "execution_count": 6,
   "metadata": {
    "collapsed": true
   },
   "outputs": [],
   "source": [
    "pe1=0.95*0.1*0.15 \\\n",
    "        + 0.05*0.9*0.15 \\\n",
    "            + 0.05*0.1*0.85"
   ]
  },
  {
   "cell_type": "code",
   "execution_count": 7,
   "metadata": {},
   "outputs": [
    {
     "name": "stdout",
     "output_type": "stream",
     "text": [
      "0.02525\n"
     ]
    },
    {
     "data": {
      "text/plain": [
       "0.025249999999999998"
      ]
     },
     "execution_count": 7,
     "metadata": {},
     "output_type": "execute_result"
    }
   ],
   "source": [
    "print pe1\n",
    "0.95*0.1*0.15 + 0.05*0.9*0.15 + 0.05*0.1*0.85"
   ]
  },
  {
   "cell_type": "code",
   "execution_count": 8,
   "metadata": {},
   "outputs": [
    {
     "name": "stdout",
     "output_type": "stream",
     "text": [
      "0.473448812771\n",
      "0.473448812771\n"
     ]
    }
   ],
   "source": [
    "print np.power(2.71, (-30./40.))\n",
    "print 2.71**((-30./40.))"
   ]
  },
  {
   "cell_type": "code",
   "execution_count": 9,
   "metadata": {},
   "outputs": [
    {
     "data": {
      "text/plain": [
       "76.0"
      ]
     },
     "execution_count": 9,
     "metadata": {},
     "output_type": "execute_result"
    }
   ],
   "source": [
    "0.75*35+0.9*30+.65*35"
   ]
  },
  {
   "cell_type": "code",
   "execution_count": 10,
   "metadata": {},
   "outputs": [
    {
     "name": "stdout",
     "output_type": "stream",
     "text": [
      "0.00875\n"
     ]
    }
   ],
   "source": [
    "print 0.25*0.1*0.35"
   ]
  },
  {
   "cell_type": "code",
   "execution_count": 11,
   "metadata": {},
   "outputs": [
    {
     "name": "stdout",
     "output_type": "stream",
     "text": [
      "0.12125\n"
     ]
    }
   ],
   "source": [
    "print 0.75*0.1*0.35 \\\n",
    "          + 0.25*0.9*0.35 \\\n",
    "               + 0.25*0.1*0.65"
   ]
  },
  {
   "cell_type": "code",
   "execution_count": 12,
   "metadata": {},
   "outputs": [
    {
     "name": "stdout",
     "output_type": "stream",
     "text": [
      "0.87\n"
     ]
    }
   ],
   "source": [
    "print 1 - 0.00875 - 0.12125"
   ]
  },
  {
   "cell_type": "code",
   "execution_count": 25,
   "metadata": {},
   "outputs": [
    {
     "name": "stdout",
     "output_type": "stream",
     "text": [
      "p(-a).p(-b).p(+g|-a,-b)) + p(-a).p(+b).p(+g|-a,+b)) + p(+a).p(-b).p(+g|+a,-b)) + p(+a).p(+b).p(+g|+a,+b)) +\n",
      "=\n",
      "0.2*0.6*0.3 + 0.2*0.4*0.75 + 0.8*0.6*0.75 + 0.8*0.4*0.95 +\n",
      "\n",
      "p(-a).p(-c).p(+s|-a,-c)) + p(-a).p(+c).p(+s|-a,+c)) + p(+a).p(-c).p(+s|+a,-c)) + p(+a).p(+c).p(+s|+a,+c)) +\n",
      "=\n",
      "0.2*0.4*0.2 + 0.2*0.6*0.7 + 0.8*0.4*0.7 + 0.8*0.6*0.9 +\n",
      "\n",
      "p(-b).p(-c).p(+i|-b,-c)) + p(-b).p(+c).p(+i|-b,+c)) + p(+b).p(-c).p(+i|+b,-c)) + p(+b).p(+c).p(+i|+b,+c)) +\n",
      "=\n",
      "0.6*0.4*0.1 + 0.6*0.6*0.65 + 0.4*0.4*0.65 + 0.4*0.6*0.85 +\n",
      "\n"
     ]
    }
   ],
   "source": [
    "# CPTs\n",
    "prior_A=0.8\n",
    "prior_B=0.4\n",
    "prior_C=0.6\n",
    "\n",
    "p[a]=prior_A\n",
    "p[na]=1-prior_A\n",
    "\n",
    "p[b]=prior_B\n",
    "p[nb]=1-prior_B\n",
    "\n",
    "p[c]=prior_C\n",
    "p[nc]=1-prior_C\n",
    "\n",
    "def printEnumeration(varG, evA, evB):\n",
    "    for G in varG:\n",
    "        for A in evA:\n",
    "            for B in evB:\n",
    "                print 'p({A}).p({B}).p({G}|{A},{B}))'.format(A=A, B=B, G=G),'+',\n",
    "    print\n",
    "    print '='\n",
    "\n",
    "    for G in varG:\n",
    "        for A in evA:\n",
    "            for B in evB:\n",
    "                print '{A}*{B}*{pG_A_B}'.format(A=p[A], B=p[B], pG_A_B=p[G][A+B]),'+',\n",
    "    print\n",
    "\n",
    "printEnumeration([g], [na,a], [nb,b])\n",
    "print\n",
    "printEnumeration([s], [na,a], [nc,c])\n",
    "print\n",
    "printEnumeration([i], [nb,b], [nc,c])\n",
    "print\n"
   ]
  },
  {
   "cell_type": "code",
   "execution_count": 33,
   "metadata": {},
   "outputs": [
    {
     "data": {
      "text/plain": [
       "69.5"
      ]
     },
     "execution_count": 33,
     "metadata": {},
     "output_type": "execute_result"
    }
   ],
   "source": [
    "np.mean([0,65,65,65,65,65,70,100,100,100])"
   ]
  },
  {
   "cell_type": "code",
   "execution_count": null,
   "metadata": {
    "collapsed": true
   },
   "outputs": [],
   "source": []
  }
 ],
 "metadata": {
  "kernelspec": {
   "display_name": "Python 2",
   "language": "python",
   "name": "python2"
  },
  "language_info": {
   "codemirror_mode": {
    "name": "ipython",
    "version": 2
   },
   "file_extension": ".py",
   "mimetype": "text/x-python",
   "name": "python",
   "nbconvert_exporter": "python",
   "pygments_lexer": "ipython2",
   "version": "2.7.13"
  }
 },
 "nbformat": 4,
 "nbformat_minor": 2
}
